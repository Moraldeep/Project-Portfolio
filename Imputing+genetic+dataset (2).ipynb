{
 "cells": [
  {
   "cell_type": "code",
   "execution_count": 1,
   "metadata": {
    "collapsed": true
   },
   "outputs": [],
   "source": [
    "import numpy as np\n",
    "import pandas as pd\n",
    "import sklearn\n",
    "import scipy.stats \n",
    "import matplotlib.pyplot as plt\n",
    "%matplotlib inline"
   ]
  },
  {
   "cell_type": "code",
   "execution_count": 2,
   "metadata": {
    "collapsed": true
   },
   "outputs": [],
   "source": [
    "from sklearn.preprocessing import Imputer"
   ]
  },
  {
   "cell_type": "code",
   "execution_count": 3,
   "metadata": {},
   "outputs": [
    {
     "name": "stderr",
     "output_type": "stream",
     "text": [
      "Using TensorFlow backend.\n",
      "/Users/poojachoudhary/anaconda3/lib/python3.6/importlib/_bootstrap.py:219: RuntimeWarning: compiletime version 3.5 of module 'tensorflow.python.framework.fast_tensor_util' does not match runtime version 3.6\n",
      "  return f(*args, **kwds)\n"
     ]
    }
   ],
   "source": [
    "from fancyimpute import KNN"
   ]
  },
  {
   "cell_type": "code",
   "execution_count": 4,
   "metadata": {
    "collapsed": true
   },
   "outputs": [],
   "source": [
    "genetic_train = pd.read_csv(\"Training_Genetic_Dataset.csv\")"
   ]
  },
  {
   "cell_type": "code",
   "execution_count": 5,
   "metadata": {
    "collapsed": true
   },
   "outputs": [],
   "source": [
    "genetic_test = pd.read_csv(\"Test_Genetic_Dataset.csv\")"
   ]
  },
  {
   "cell_type": "code",
   "execution_count": 7,
   "metadata": {
    "collapsed": true
   },
   "outputs": [],
   "source": [
    "genetic_merge = pd.concat([genetic_train,genetic_test])"
   ]
  },
  {
   "cell_type": "code",
   "execution_count": 41,
   "metadata": {
    "scrolled": true
   },
   "outputs": [
    {
     "data": {
      "text/html": [
       "<div>\n",
       "<style>\n",
       "    .dataframe thead tr:only-child th {\n",
       "        text-align: right;\n",
       "    }\n",
       "\n",
       "    .dataframe thead th {\n",
       "        text-align: left;\n",
       "    }\n",
       "\n",
       "    .dataframe tbody tr th {\n",
       "        vertical-align: top;\n",
       "    }\n",
       "</style>\n",
       "<table border=\"1\" class=\"dataframe\">\n",
       "  <thead>\n",
       "    <tr style=\"text-align: right;\">\n",
       "      <th></th>\n",
       "      <th>Hybrid</th>\n",
       "      <th>G1</th>\n",
       "      <th>G2</th>\n",
       "      <th>G3</th>\n",
       "      <th>G4</th>\n",
       "      <th>G5</th>\n",
       "      <th>G6</th>\n",
       "      <th>G7</th>\n",
       "      <th>G8</th>\n",
       "      <th>G9</th>\n",
       "      <th>...</th>\n",
       "      <th>G19456</th>\n",
       "      <th>G19457</th>\n",
       "      <th>G19458</th>\n",
       "      <th>G19459</th>\n",
       "      <th>G19460</th>\n",
       "      <th>G19461</th>\n",
       "      <th>G19462</th>\n",
       "      <th>G19463</th>\n",
       "      <th>G19464</th>\n",
       "      <th>G19465</th>\n",
       "    </tr>\n",
       "  </thead>\n",
       "  <tbody>\n",
       "    <tr>\n",
       "      <th>0</th>\n",
       "      <td>P1000:P2030</td>\n",
       "      <td>0.0</td>\n",
       "      <td>NaN</td>\n",
       "      <td>1.0</td>\n",
       "      <td>NaN</td>\n",
       "      <td>-1.0</td>\n",
       "      <td>NaN</td>\n",
       "      <td>NaN</td>\n",
       "      <td>0.0</td>\n",
       "      <td>1.0</td>\n",
       "      <td>...</td>\n",
       "      <td>1.0</td>\n",
       "      <td>1.0</td>\n",
       "      <td>-1.0</td>\n",
       "      <td>0.0</td>\n",
       "      <td>0.0</td>\n",
       "      <td>1.0</td>\n",
       "      <td>1.0</td>\n",
       "      <td>1.0</td>\n",
       "      <td>NaN</td>\n",
       "      <td>1.0</td>\n",
       "    </tr>\n",
       "    <tr>\n",
       "      <th>1</th>\n",
       "      <td>P1001:P2030</td>\n",
       "      <td>1.0</td>\n",
       "      <td>0.0</td>\n",
       "      <td>0.0</td>\n",
       "      <td>1.0</td>\n",
       "      <td>0.0</td>\n",
       "      <td>-1.0</td>\n",
       "      <td>1.0</td>\n",
       "      <td>0.0</td>\n",
       "      <td>1.0</td>\n",
       "      <td>...</td>\n",
       "      <td>1.0</td>\n",
       "      <td>1.0</td>\n",
       "      <td>NaN</td>\n",
       "      <td>NaN</td>\n",
       "      <td>1.0</td>\n",
       "      <td>1.0</td>\n",
       "      <td>1.0</td>\n",
       "      <td>1.0</td>\n",
       "      <td>1.0</td>\n",
       "      <td>NaN</td>\n",
       "    </tr>\n",
       "    <tr>\n",
       "      <th>2</th>\n",
       "      <td>P1002:P1158</td>\n",
       "      <td>1.0</td>\n",
       "      <td>NaN</td>\n",
       "      <td>NaN</td>\n",
       "      <td>NaN</td>\n",
       "      <td>1.0</td>\n",
       "      <td>1.0</td>\n",
       "      <td>NaN</td>\n",
       "      <td>0.0</td>\n",
       "      <td>1.0</td>\n",
       "      <td>...</td>\n",
       "      <td>1.0</td>\n",
       "      <td>1.0</td>\n",
       "      <td>NaN</td>\n",
       "      <td>NaN</td>\n",
       "      <td>1.0</td>\n",
       "      <td>1.0</td>\n",
       "      <td>1.0</td>\n",
       "      <td>NaN</td>\n",
       "      <td>1.0</td>\n",
       "      <td>NaN</td>\n",
       "    </tr>\n",
       "    <tr>\n",
       "      <th>3</th>\n",
       "      <td>P1002:P2030</td>\n",
       "      <td>1.0</td>\n",
       "      <td>0.0</td>\n",
       "      <td>0.0</td>\n",
       "      <td>1.0</td>\n",
       "      <td>0.0</td>\n",
       "      <td>0.0</td>\n",
       "      <td>1.0</td>\n",
       "      <td>0.0</td>\n",
       "      <td>1.0</td>\n",
       "      <td>...</td>\n",
       "      <td>1.0</td>\n",
       "      <td>1.0</td>\n",
       "      <td>NaN</td>\n",
       "      <td>NaN</td>\n",
       "      <td>1.0</td>\n",
       "      <td>1.0</td>\n",
       "      <td>1.0</td>\n",
       "      <td>NaN</td>\n",
       "      <td>1.0</td>\n",
       "      <td>NaN</td>\n",
       "    </tr>\n",
       "    <tr>\n",
       "      <th>4</th>\n",
       "      <td>P1003:P1803</td>\n",
       "      <td>0.0</td>\n",
       "      <td>NaN</td>\n",
       "      <td>0.0</td>\n",
       "      <td>NaN</td>\n",
       "      <td>-1.0</td>\n",
       "      <td>NaN</td>\n",
       "      <td>NaN</td>\n",
       "      <td>0.0</td>\n",
       "      <td>1.0</td>\n",
       "      <td>...</td>\n",
       "      <td>1.0</td>\n",
       "      <td>1.0</td>\n",
       "      <td>0.0</td>\n",
       "      <td>0.0</td>\n",
       "      <td>NaN</td>\n",
       "      <td>0.0</td>\n",
       "      <td>0.0</td>\n",
       "      <td>NaN</td>\n",
       "      <td>1.0</td>\n",
       "      <td>1.0</td>\n",
       "    </tr>\n",
       "  </tbody>\n",
       "</table>\n",
       "<p>5 rows × 19466 columns</p>\n",
       "</div>"
      ],
      "text/plain": [
       "        Hybrid   G1   G2   G3   G4   G5   G6   G7   G8   G9   ...    G19456  \\\n",
       "0  P1000:P2030  0.0  NaN  1.0  NaN -1.0  NaN  NaN  0.0  1.0   ...       1.0   \n",
       "1  P1001:P2030  1.0  0.0  0.0  1.0  0.0 -1.0  1.0  0.0  1.0   ...       1.0   \n",
       "2  P1002:P1158  1.0  NaN  NaN  NaN  1.0  1.0  NaN  0.0  1.0   ...       1.0   \n",
       "3  P1002:P2030  1.0  0.0  0.0  1.0  0.0  0.0  1.0  0.0  1.0   ...       1.0   \n",
       "4  P1003:P1803  0.0  NaN  0.0  NaN -1.0  NaN  NaN  0.0  1.0   ...       1.0   \n",
       "\n",
       "   G19457  G19458  G19459  G19460  G19461  G19462  G19463  G19464  G19465  \n",
       "0     1.0    -1.0     0.0     0.0     1.0     1.0     1.0     NaN     1.0  \n",
       "1     1.0     NaN     NaN     1.0     1.0     1.0     1.0     1.0     NaN  \n",
       "2     1.0     NaN     NaN     1.0     1.0     1.0     NaN     1.0     NaN  \n",
       "3     1.0     NaN     NaN     1.0     1.0     1.0     NaN     1.0     NaN  \n",
       "4     1.0     0.0     0.0     NaN     0.0     0.0     NaN     1.0     1.0  \n",
       "\n",
       "[5 rows x 19466 columns]"
      ]
     },
     "execution_count": 41,
     "metadata": {},
     "output_type": "execute_result"
    }
   ],
   "source": [
    "genetic_merge.head()"
   ]
  },
  {
   "cell_type": "code",
   "execution_count": 18,
   "metadata": {},
   "outputs": [
    {
     "data": {
      "text/plain": [
       "(2764, 19465)"
      ]
     },
     "execution_count": 18,
     "metadata": {},
     "output_type": "execute_result"
    }
   ],
   "source": [
    "genetic_v2 = genetic_merge.drop('Hybrid', axis=1)\n",
    "genetic_v2.shape"
   ]
  },
  {
   "cell_type": "code",
   "execution_count": 19,
   "metadata": {},
   "outputs": [
    {
     "name": "stdout",
     "output_type": "stream",
     "text": [
      "Imputing row 1/2764 with 5233 missing, elapsed time: 1096.640\n",
      "Imputing row 101/2764 with 5413 missing, elapsed time: 1110.790\n",
      "Imputing row 201/2764 with 6146 missing, elapsed time: 1122.836\n",
      "Imputing row 301/2764 with 5522 missing, elapsed time: 1133.721\n",
      "Imputing row 401/2764 with 4249 missing, elapsed time: 1148.213\n",
      "Imputing row 501/2764 with 8140 missing, elapsed time: 1160.870\n",
      "Imputing row 601/2764 with 11210 missing, elapsed time: 1174.705\n",
      "Imputing row 701/2764 with 5334 missing, elapsed time: 1185.735\n",
      "Imputing row 801/2764 with 11938 missing, elapsed time: 1197.998\n",
      "Imputing row 901/2764 with 8348 missing, elapsed time: 1212.111\n",
      "Imputing row 1001/2764 with 4680 missing, elapsed time: 1227.652\n",
      "Imputing row 1101/2764 with 7036 missing, elapsed time: 1240.893\n",
      "Imputing row 1201/2764 with 5544 missing, elapsed time: 1256.595\n",
      "Imputing row 1301/2764 with 13698 missing, elapsed time: 1270.039\n",
      "Imputing row 1401/2764 with 1602 missing, elapsed time: 1282.651\n",
      "Imputing row 1501/2764 with 6088 missing, elapsed time: 1296.054\n",
      "Imputing row 1601/2764 with 5592 missing, elapsed time: 1312.799\n",
      "Imputing row 1701/2764 with 7188 missing, elapsed time: 1326.870\n",
      "Imputing row 1801/2764 with 2030 missing, elapsed time: 1343.778\n",
      "Imputing row 1901/2764 with 6240 missing, elapsed time: 1358.924\n",
      "Imputing row 2001/2764 with 8206 missing, elapsed time: 1374.814\n",
      "Imputing row 2101/2764 with 7826 missing, elapsed time: 1392.310\n",
      "Imputing row 2201/2764 with 8159 missing, elapsed time: 1413.020\n",
      "Imputing row 2301/2764 with 7251 missing, elapsed time: 1431.819\n",
      "Imputing row 2401/2764 with 6423 missing, elapsed time: 1447.520\n",
      "Imputing row 2501/2764 with 5678 missing, elapsed time: 1464.328\n",
      "Imputing row 2601/2764 with 5826 missing, elapsed time: 1480.055\n",
      "Imputing row 2701/2764 with 6890 missing, elapsed time: 1499.108\n"
     ]
    }
   ],
   "source": [
    "X_filled_knn = KNN(k=3).complete(genetic_v2)"
   ]
  },
  {
   "cell_type": "code",
   "execution_count": 20,
   "metadata": {
    "collapsed": true
   },
   "outputs": [],
   "source": [
    "X_filled_knn[X_filled_knn>0.5] = 1\n",
    "\n",
    "X_filled_knn[X_filled_knn<0] = -1"
   ]
  },
  {
   "cell_type": "code",
   "execution_count": 34,
   "metadata": {},
   "outputs": [
    {
     "data": {
      "text/plain": [
       "2764"
      ]
     },
     "execution_count": 34,
     "metadata": {},
     "output_type": "execute_result"
    }
   ],
   "source": [
    "np.shape(X_filled_knn)[0]"
   ]
  },
  {
   "cell_type": "code",
   "execution_count": 32,
   "metadata": {
    "collapsed": true
   },
   "outputs": [],
   "source": [
    "for i in range(0,(np.shape(X_filled_knn)[0])):\n",
    "    for j in range(0,np.shape(X_filled_knn)[1]):\n",
    "        if(0< X_filled_knn[i][j] <=0.5):\n",
    "            X_filled_knn[i][j] =0"
   ]
  },
  {
   "cell_type": "code",
   "execution_count": 35,
   "metadata": {
    "collapsed": true
   },
   "outputs": [],
   "source": [
    "Genetic_new = pd.DataFrame(X_filled_knn);"
   ]
  },
  {
   "cell_type": "code",
   "execution_count": 36,
   "metadata": {
    "collapsed": true
   },
   "outputs": [],
   "source": [
    "from sklearn.decomposition import PCA"
   ]
  },
  {
   "cell_type": "code",
   "execution_count": 37,
   "metadata": {
    "collapsed": true
   },
   "outputs": [],
   "source": [
    "pca = PCA(n_components = 500, whiten = True)\n",
    "x = pca.fit(Genetic_new).transform(Genetic_new )"
   ]
  },
  {
   "cell_type": "code",
   "execution_count": 142,
   "metadata": {
    "collapsed": true
   },
   "outputs": [],
   "source": [
    "genetic_pca = pd.DataFrame(x)"
   ]
  },
  {
   "cell_type": "code",
   "execution_count": 143,
   "metadata": {},
   "outputs": [
    {
     "data": {
      "text/plain": [
       "(2267, 500)"
      ]
     },
     "execution_count": 143,
     "metadata": {},
     "output_type": "execute_result"
    }
   ],
   "source": [
    "df1 = genetic_pca.iloc[:2267, :] #Training \n",
    "df2 = genetic_pca.iloc[2267:, :]  #Test"
   ]
  }
 ],
 "metadata": {
  "kernelspec": {
   "display_name": "Python 3",
   "language": "python",
   "name": "python3"
  },
  "language_info": {
   "codemirror_mode": {
    "name": "ipython",
    "version": 3
   },
   "file_extension": ".py",
   "mimetype": "text/x-python",
   "name": "python",
   "nbconvert_exporter": "python",
   "pygments_lexer": "ipython3",
   "version": "3.6.3"
  }
 },
 "nbformat": 4,
 "nbformat_minor": 2
}
