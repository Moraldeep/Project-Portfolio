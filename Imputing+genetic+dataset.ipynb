{
 "cells": [
  {
   "cell_type": "code",
   "execution_count": 1,
   "metadata": {
    "collapsed": true
   },
   "outputs": [],
   "source": [
    "import numpy as np\n",
    "import pandas as pd\n",
    "import sklearn\n",
    "import scipy.stats \n",
    "import matplotlib.pyplot as plt\n",
    "%matplotlib inline"
   ]
  },
  {
   "cell_type": "code",
   "execution_count": 2,
   "metadata": {
    "collapsed": true
   },
   "outputs": [],
   "source": [
    "from sklearn.preprocessing import Imputer"
   ]
  },
  {
   "cell_type": "code",
   "execution_count": 3,
   "metadata": {},
   "outputs": [
    {
     "name": "stderr",
     "output_type": "stream",
     "text": [
      "Using TensorFlow backend.\n",
      "/Users/poojachoudhary/anaconda3/lib/python3.6/importlib/_bootstrap.py:219: RuntimeWarning: compiletime version 3.5 of module 'tensorflow.python.framework.fast_tensor_util' does not match runtime version 3.6\n",
      "  return f(*args, **kwds)\n"
     ]
    }
   ],
   "source": [
    "from fancyimpute import KNN"
   ]
  },
  {
   "cell_type": "code",
   "execution_count": 4,
   "metadata": {},
   "outputs": [],
   "source": [
    "genetic_train = pd.read_csv(\"Training_Genetic_Dataset.csv\")"
   ]
  },
  {
   "cell_type": "code",
   "execution_count": 5,
   "metadata": {
    "collapsed": true
   },
   "outputs": [],
   "source": [
    "genetic_test = pd.read_csv(\"Test_Genetic_Dataset.csv\")"
   ]
  },
  {
   "cell_type": "code",
   "execution_count": 7,
   "metadata": {
    "collapsed": true
   },
   "outputs": [],
   "source": [
    "genetic_merge = pd.concat([genetic_train,genetic_test])"
   ]
  },
  {
   "cell_type": "code",
   "execution_count": 41,
   "metadata": {
    "scrolled": true
   },
   "outputs": [
    {
     "data": {
      "text/html": [
       "<div>\n",
       "<style>\n",
       "    .dataframe thead tr:only-child th {\n",
       "        text-align: right;\n",
       "    }\n",
       "\n",
       "    .dataframe thead th {\n",
       "        text-align: left;\n",
       "    }\n",
       "\n",
       "    .dataframe tbody tr th {\n",
       "        vertical-align: top;\n",
       "    }\n",
       "</style>\n",
       "<table border=\"1\" class=\"dataframe\">\n",
       "  <thead>\n",
       "    <tr style=\"text-align: right;\">\n",
       "      <th></th>\n",
       "      <th>Hybrid</th>\n",
       "      <th>G1</th>\n",
       "      <th>G2</th>\n",
       "      <th>G3</th>\n",
       "      <th>G4</th>\n",
       "      <th>G5</th>\n",
       "      <th>G6</th>\n",
       "      <th>G7</th>\n",
       "      <th>G8</th>\n",
       "      <th>G9</th>\n",
       "      <th>...</th>\n",
       "      <th>G19456</th>\n",
       "      <th>G19457</th>\n",
       "      <th>G19458</th>\n",
       "      <th>G19459</th>\n",
       "      <th>G19460</th>\n",
       "      <th>G19461</th>\n",
       "      <th>G19462</th>\n",
       "      <th>G19463</th>\n",
       "      <th>G19464</th>\n",
       "      <th>G19465</th>\n",
       "    </tr>\n",
       "  </thead>\n",
       "  <tbody>\n",
       "    <tr>\n",
       "      <th>0</th>\n",
       "      <td>P1000:P2030</td>\n",
       "      <td>0.0</td>\n",
       "      <td>NaN</td>\n",
       "      <td>1.0</td>\n",
       "      <td>NaN</td>\n",
       "      <td>-1.0</td>\n",
       "      <td>NaN</td>\n",
       "      <td>NaN</td>\n",
       "      <td>0.0</td>\n",
       "      <td>1.0</td>\n",
       "      <td>...</td>\n",
       "      <td>1.0</td>\n",
       "      <td>1.0</td>\n",
       "      <td>-1.0</td>\n",
       "      <td>0.0</td>\n",
       "      <td>0.0</td>\n",
       "      <td>1.0</td>\n",
       "      <td>1.0</td>\n",
       "      <td>1.0</td>\n",
       "      <td>NaN</td>\n",
       "      <td>1.0</td>\n",
       "    </tr>\n",
       "    <tr>\n",
       "      <th>1</th>\n",
       "      <td>P1001:P2030</td>\n",
       "      <td>1.0</td>\n",
       "      <td>0.0</td>\n",
       "      <td>0.0</td>\n",
       "      <td>1.0</td>\n",
       "      <td>0.0</td>\n",
       "      <td>-1.0</td>\n",
       "      <td>1.0</td>\n",
       "      <td>0.0</td>\n",
       "      <td>1.0</td>\n",
       "      <td>...</td>\n",
       "      <td>1.0</td>\n",
       "      <td>1.0</td>\n",
       "      <td>NaN</td>\n",
       "      <td>NaN</td>\n",
       "      <td>1.0</td>\n",
       "      <td>1.0</td>\n",
       "      <td>1.0</td>\n",
       "      <td>1.0</td>\n",
       "      <td>1.0</td>\n",
       "      <td>NaN</td>\n",
       "    </tr>\n",
       "    <tr>\n",
       "      <th>2</th>\n",
       "      <td>P1002:P1158</td>\n",
       "      <td>1.0</td>\n",
       "      <td>NaN</td>\n",
       "      <td>NaN</td>\n",
       "      <td>NaN</td>\n",
       "      <td>1.0</td>\n",
       "      <td>1.0</td>\n",
       "      <td>NaN</td>\n",
       "      <td>0.0</td>\n",
       "      <td>1.0</td>\n",
       "      <td>...</td>\n",
       "      <td>1.0</td>\n",
       "      <td>1.0</td>\n",
       "      <td>NaN</td>\n",
       "      <td>NaN</td>\n",
       "      <td>1.0</td>\n",
       "      <td>1.0</td>\n",
       "      <td>1.0</td>\n",
       "      <td>NaN</td>\n",
       "      <td>1.0</td>\n",
       "      <td>NaN</td>\n",
       "    </tr>\n",
       "    <tr>\n",
       "      <th>3</th>\n",
       "      <td>P1002:P2030</td>\n",
       "      <td>1.0</td>\n",
       "      <td>0.0</td>\n",
       "      <td>0.0</td>\n",
       "      <td>1.0</td>\n",
       "      <td>0.0</td>\n",
       "      <td>0.0</td>\n",
       "      <td>1.0</td>\n",
       "      <td>0.0</td>\n",
       "      <td>1.0</td>\n",
       "      <td>...</td>\n",
       "      <td>1.0</td>\n",
       "      <td>1.0</td>\n",
       "      <td>NaN</td>\n",
       "      <td>NaN</td>\n",
       "      <td>1.0</td>\n",
       "      <td>1.0</td>\n",
       "      <td>1.0</td>\n",
       "      <td>NaN</td>\n",
       "      <td>1.0</td>\n",
       "      <td>NaN</td>\n",
       "    </tr>\n",
       "    <tr>\n",
       "      <th>4</th>\n",
       "      <td>P1003:P1803</td>\n",
       "      <td>0.0</td>\n",
       "      <td>NaN</td>\n",
       "      <td>0.0</td>\n",
       "      <td>NaN</td>\n",
       "      <td>-1.0</td>\n",
       "      <td>NaN</td>\n",
       "      <td>NaN</td>\n",
       "      <td>0.0</td>\n",
       "      <td>1.0</td>\n",
       "      <td>...</td>\n",
       "      <td>1.0</td>\n",
       "      <td>1.0</td>\n",
       "      <td>0.0</td>\n",
       "      <td>0.0</td>\n",
       "      <td>NaN</td>\n",
       "      <td>0.0</td>\n",
       "      <td>0.0</td>\n",
       "      <td>NaN</td>\n",
       "      <td>1.0</td>\n",
       "      <td>1.0</td>\n",
       "    </tr>\n",
       "  </tbody>\n",
       "</table>\n",
       "<p>5 rows × 19466 columns</p>\n",
       "</div>"
      ],
      "text/plain": [
       "        Hybrid   G1   G2   G3   G4   G5   G6   G7   G8   G9   ...    G19456  \\\n",
       "0  P1000:P2030  0.0  NaN  1.0  NaN -1.0  NaN  NaN  0.0  1.0   ...       1.0   \n",
       "1  P1001:P2030  1.0  0.0  0.0  1.0  0.0 -1.0  1.0  0.0  1.0   ...       1.0   \n",
       "2  P1002:P1158  1.0  NaN  NaN  NaN  1.0  1.0  NaN  0.0  1.0   ...       1.0   \n",
       "3  P1002:P2030  1.0  0.0  0.0  1.0  0.0  0.0  1.0  0.0  1.0   ...       1.0   \n",
       "4  P1003:P1803  0.0  NaN  0.0  NaN -1.0  NaN  NaN  0.0  1.0   ...       1.0   \n",
       "\n",
       "   G19457  G19458  G19459  G19460  G19461  G19462  G19463  G19464  G19465  \n",
       "0     1.0    -1.0     0.0     0.0     1.0     1.0     1.0     NaN     1.0  \n",
       "1     1.0     NaN     NaN     1.0     1.0     1.0     1.0     1.0     NaN  \n",
       "2     1.0     NaN     NaN     1.0     1.0     1.0     NaN     1.0     NaN  \n",
       "3     1.0     NaN     NaN     1.0     1.0     1.0     NaN     1.0     NaN  \n",
       "4     1.0     0.0     0.0     NaN     0.0     0.0     NaN     1.0     1.0  \n",
       "\n",
       "[5 rows x 19466 columns]"
      ]
     },
     "execution_count": 41,
     "metadata": {},
     "output_type": "execute_result"
    }
   ],
   "source": [
    "genetic_merge.head()"
   ]
  },
  {
   "cell_type": "code",
   "execution_count": 18,
   "metadata": {},
   "outputs": [
    {
     "data": {
      "text/plain": [
       "(2764, 19465)"
      ]
     },
     "execution_count": 18,
     "metadata": {},
     "output_type": "execute_result"
    }
   ],
   "source": [
    "genetic_v2 = genetic_merge.drop('Hybrid', axis=1)\n",
    "genetic_v2.shape"
   ]
  },
  {
   "cell_type": "code",
   "execution_count": 19,
   "metadata": {},
   "outputs": [
    {
     "name": "stdout",
     "output_type": "stream",
     "text": [
      "Imputing row 1/2764 with 5233 missing, elapsed time: 1096.640\n",
      "Imputing row 101/2764 with 5413 missing, elapsed time: 1110.790\n",
      "Imputing row 201/2764 with 6146 missing, elapsed time: 1122.836\n",
      "Imputing row 301/2764 with 5522 missing, elapsed time: 1133.721\n",
      "Imputing row 401/2764 with 4249 missing, elapsed time: 1148.213\n",
      "Imputing row 501/2764 with 8140 missing, elapsed time: 1160.870\n",
      "Imputing row 601/2764 with 11210 missing, elapsed time: 1174.705\n",
      "Imputing row 701/2764 with 5334 missing, elapsed time: 1185.735\n",
      "Imputing row 801/2764 with 11938 missing, elapsed time: 1197.998\n",
      "Imputing row 901/2764 with 8348 missing, elapsed time: 1212.111\n",
      "Imputing row 1001/2764 with 4680 missing, elapsed time: 1227.652\n",
      "Imputing row 1101/2764 with 7036 missing, elapsed time: 1240.893\n",
      "Imputing row 1201/2764 with 5544 missing, elapsed time: 1256.595\n",
      "Imputing row 1301/2764 with 13698 missing, elapsed time: 1270.039\n",
      "Imputing row 1401/2764 with 1602 missing, elapsed time: 1282.651\n",
      "Imputing row 1501/2764 with 6088 missing, elapsed time: 1296.054\n",
      "Imputing row 1601/2764 with 5592 missing, elapsed time: 1312.799\n",
      "Imputing row 1701/2764 with 7188 missing, elapsed time: 1326.870\n",
      "Imputing row 1801/2764 with 2030 missing, elapsed time: 1343.778\n",
      "Imputing row 1901/2764 with 6240 missing, elapsed time: 1358.924\n",
      "Imputing row 2001/2764 with 8206 missing, elapsed time: 1374.814\n",
      "Imputing row 2101/2764 with 7826 missing, elapsed time: 1392.310\n",
      "Imputing row 2201/2764 with 8159 missing, elapsed time: 1413.020\n",
      "Imputing row 2301/2764 with 7251 missing, elapsed time: 1431.819\n",
      "Imputing row 2401/2764 with 6423 missing, elapsed time: 1447.520\n",
      "Imputing row 2501/2764 with 5678 missing, elapsed time: 1464.328\n",
      "Imputing row 2601/2764 with 5826 missing, elapsed time: 1480.055\n",
      "Imputing row 2701/2764 with 6890 missing, elapsed time: 1499.108\n"
     ]
    }
   ],
   "source": [
    "X_filled_knn = KNN(k=3).complete(genetic_v2)"
   ]
  },
  {
   "cell_type": "code",
   "execution_count": 20,
   "metadata": {
    "collapsed": true
   },
   "outputs": [],
   "source": [
    "X_filled_knn[X_filled_knn>0.5] = 1\n",
    "\n",
    "X_filled_knn[X_filled_knn<0] = -1"
   ]
  },
  {
   "cell_type": "code",
   "execution_count": 34,
   "metadata": {},
   "outputs": [
    {
     "data": {
      "text/plain": [
       "2764"
      ]
     },
     "execution_count": 34,
     "metadata": {},
     "output_type": "execute_result"
    }
   ],
   "source": [
    "np.shape(X_filled_knn)[0]"
   ]
  },
  {
   "cell_type": "code",
   "execution_count": 32,
   "metadata": {},
   "outputs": [],
   "source": [
    "for i in range(0,(np.shape(X_filled_knn)[0])):\n",
    "    for j in range(0,np.shape(X_filled_knn)[1]):\n",
    "        if(0< X_filled_knn[i][j] <=0.5):\n",
    "            X_filled_knn[i][j] =0"
   ]
  },
  {
   "cell_type": "code",
   "execution_count": 33,
   "metadata": {},
   "outputs": [],
   "source": [
    "Genetic_new = pd.DataFrame(X_filled_knn);"
   ]
  },
  {
   "cell_type": "code",
   "execution_count": 115,
   "metadata": {
    "collapsed": true
   },
   "outputs": [],
   "source": [
    "from sklearn.decomposition import PCA"
   ]
  },
  {
   "cell_type": "code",
   "execution_count": 138,
   "metadata": {
    "collapsed": true
   },
   "outputs": [],
   "source": [
    "pca = PCA(n_components = 500, whiten = True)\n",
    "x = pca.fit(Genetic_new).transform(Genetic_new )"
   ]
  },
  {
   "cell_type": "code",
   "execution_count": 139,
   "metadata": {},
   "outputs": [
    {
     "data": {
      "text/plain": [
       "array([  9.37145427e+02,   3.52751431e+02,   2.60860240e+02,\n",
       "         2.24592222e+02,   1.89595989e+02,   1.65182933e+02,\n",
       "         1.50382316e+02,   1.32967775e+02,   1.23856625e+02,\n",
       "         1.05481923e+02,   9.74063854e+01,   9.23438163e+01,\n",
       "         8.30327034e+01,   7.46712690e+01,   7.30620087e+01,\n",
       "         6.77274704e+01,   5.97581761e+01,   5.05440626e+01,\n",
       "         4.86500594e+01,   4.52571723e+01,   4.51250120e+01,\n",
       "         4.33059116e+01,   4.08747355e+01,   3.68957119e+01,\n",
       "         3.59065039e+01,   3.45703504e+01,   3.30804076e+01,\n",
       "         3.27090714e+01,   3.17922211e+01,   3.03494408e+01,\n",
       "         2.89205284e+01,   2.81643702e+01,   2.69946082e+01,\n",
       "         2.67743805e+01,   2.54782269e+01,   2.46348800e+01,\n",
       "         2.44416005e+01,   2.33542319e+01,   2.23740267e+01,\n",
       "         2.14483262e+01,   2.08570972e+01,   2.02441883e+01,\n",
       "         1.94651930e+01,   1.90814166e+01,   1.84217781e+01,\n",
       "         1.80758220e+01,   1.75966813e+01,   1.70863651e+01,\n",
       "         1.69981355e+01,   1.66190164e+01,   1.62773797e+01,\n",
       "         1.55158687e+01,   1.53138205e+01,   1.49136200e+01,\n",
       "         1.44867630e+01,   1.44415423e+01,   1.42556469e+01,\n",
       "         1.36719505e+01,   1.34892905e+01,   1.33154809e+01,\n",
       "         1.29632400e+01,   1.27433097e+01,   1.24593024e+01,\n",
       "         1.22019275e+01,   1.18373724e+01,   1.17572546e+01,\n",
       "         1.16246594e+01,   1.13718892e+01,   1.12768089e+01,\n",
       "         1.10310792e+01,   1.09430029e+01,   1.07919704e+01,\n",
       "         1.06057220e+01,   1.05027350e+01,   1.02910600e+01,\n",
       "         1.01532787e+01,   1.00294364e+01,   9.90161806e+00,\n",
       "         9.72806453e+00,   9.60015216e+00,   9.44447362e+00,\n",
       "         9.23900367e+00,   9.09458706e+00,   8.95904421e+00,\n",
       "         8.87070862e+00,   8.70715994e+00,   8.56127286e+00,\n",
       "         8.46797992e+00,   8.41687930e+00,   8.23486855e+00,\n",
       "         8.17157857e+00,   7.97795847e+00,   7.90320200e+00,\n",
       "         7.75651399e+00,   7.65755113e+00,   7.61885120e+00,\n",
       "         7.44463410e+00,   7.39359449e+00,   7.31552766e+00,\n",
       "         7.26156170e+00,   7.21291188e+00,   7.16973330e+00,\n",
       "         7.10441886e+00,   6.99410008e+00,   6.82503715e+00,\n",
       "         6.79417422e+00,   6.70050282e+00,   6.67675918e+00,\n",
       "         6.56810741e+00,   6.53010657e+00,   6.43505725e+00,\n",
       "         6.41001292e+00,   6.27229590e+00,   6.21880977e+00,\n",
       "         6.11562127e+00,   6.07319274e+00,   5.97474877e+00,\n",
       "         5.92680068e+00,   5.86709319e+00,   5.83391563e+00,\n",
       "         5.78247277e+00,   5.74646370e+00,   5.66249933e+00,\n",
       "         5.56043803e+00,   5.50282512e+00,   5.46681046e+00,\n",
       "         5.41845760e+00,   5.38094896e+00,   5.34499023e+00,\n",
       "         5.29686713e+00,   5.27230725e+00,   5.22244430e+00,\n",
       "         5.16446915e+00,   5.12165165e+00,   5.08136531e+00,\n",
       "         5.04800902e+00,   5.02846140e+00,   4.95608803e+00,\n",
       "         4.91297137e+00,   4.88572292e+00,   4.87308867e+00,\n",
       "         4.82076050e+00,   4.74171131e+00,   4.72674160e+00,\n",
       "         4.68502774e+00,   4.64494958e+00,   4.60247748e+00,\n",
       "         4.58137755e+00,   4.51711253e+00,   4.47033507e+00,\n",
       "         4.45064163e+00,   4.41637863e+00,   4.38367561e+00,\n",
       "         4.33487071e+00,   4.30873337e+00,   4.26703742e+00,\n",
       "         4.26264227e+00,   4.22864457e+00,   4.20263933e+00,\n",
       "         4.14625174e+00,   4.11253488e+00,   4.07580858e+00,\n",
       "         4.06602964e+00,   4.03081375e+00,   3.98935065e+00,\n",
       "         3.95271956e+00,   3.92783472e+00,   3.91204792e+00,\n",
       "         3.89461724e+00,   3.85538783e+00,   3.82551269e+00,\n",
       "         3.79182616e+00,   3.77137980e+00,   3.76016271e+00,\n",
       "         3.74023060e+00,   3.68861462e+00,   3.67759257e+00,\n",
       "         3.63458501e+00,   3.61444443e+00,   3.58303530e+00,\n",
       "         3.57041307e+00,   3.55746731e+00,   3.51611392e+00,\n",
       "         3.50141960e+00,   3.48160854e+00,   3.43777261e+00,\n",
       "         3.43139822e+00,   3.39749996e+00,   3.38750480e+00,\n",
       "         3.37767237e+00,   3.33773154e+00,   3.31891972e+00,\n",
       "         3.29669208e+00,   3.29339746e+00,   3.25983178e+00,\n",
       "         3.23010931e+00,   3.22073061e+00,   3.20115007e+00,\n",
       "         3.19383099e+00,   3.17967766e+00,   3.16720870e+00,\n",
       "         3.14205131e+00,   3.12881282e+00,   3.11280577e+00,\n",
       "         3.08541705e+00,   3.06559367e+00,   3.03854419e+00,\n",
       "         3.03309584e+00,   3.00167493e+00,   2.96699064e+00,\n",
       "         2.95843390e+00,   2.94534821e+00,   2.93585831e+00,\n",
       "         2.93007264e+00,   2.91577070e+00,   2.89550473e+00,\n",
       "         2.87347700e+00,   2.86153846e+00,   2.83922082e+00,\n",
       "         2.81404736e+00,   2.80817203e+00,   2.79139260e+00,\n",
       "         2.78639272e+00,   2.77169765e+00,   2.75239057e+00,\n",
       "         2.74953546e+00,   2.73438054e+00,   2.72223305e+00,\n",
       "         2.70532357e+00,   2.66571549e+00,   2.64735242e+00,\n",
       "         2.64065165e+00,   2.63410623e+00,   2.60270377e+00,\n",
       "         2.59418971e+00,   2.58763047e+00,   2.58360315e+00,\n",
       "         2.57116817e+00,   2.55886866e+00,   2.54160183e+00,\n",
       "         2.51357313e+00,   2.50492777e+00,   2.50356276e+00,\n",
       "         2.48439172e+00,   2.46441784e+00,   2.46228166e+00,\n",
       "         2.44566508e+00,   2.44304373e+00,   2.43055433e+00,\n",
       "         2.41368522e+00,   2.40342194e+00,   2.39683083e+00,\n",
       "         2.38331117e+00,   2.37404319e+00,   2.36138564e+00,\n",
       "         2.34990839e+00,   2.34069103e+00,   2.33223435e+00,\n",
       "         2.32965995e+00,   2.30559125e+00,   2.29270987e+00,\n",
       "         2.27800672e+00,   2.26959606e+00,   2.26455976e+00,\n",
       "         2.25273008e+00,   2.23997307e+00,   2.22843418e+00,\n",
       "         2.21530176e+00,   2.21337177e+00,   2.19604380e+00,\n",
       "         2.18458119e+00,   2.17720344e+00,   2.17029377e+00,\n",
       "         2.16699898e+00,   2.15006871e+00,   2.14464952e+00,\n",
       "         2.13579765e+00,   2.12984702e+00,   2.10919381e+00,\n",
       "         2.10504063e+00,   2.09553660e+00,   2.08485422e+00,\n",
       "         2.08258175e+00,   2.06681828e+00,   2.05297222e+00,\n",
       "         2.05254115e+00,   2.04485344e+00,   2.03191124e+00,\n",
       "         2.02550117e+00,   2.01366982e+00,   2.00004870e+00,\n",
       "         1.99425692e+00,   1.98292595e+00,   1.97313017e+00,\n",
       "         1.96109582e+00,   1.95728540e+00,   1.95326255e+00,\n",
       "         1.94418970e+00,   1.93656452e+00,   1.92637495e+00,\n",
       "         1.91547090e+00,   1.90907439e+00,   1.89430202e+00,\n",
       "         1.88184358e+00,   1.87259744e+00,   1.86666712e+00,\n",
       "         1.86493447e+00,   1.85254050e+00,   1.84419630e+00,\n",
       "         1.84078877e+00,   1.83882566e+00,   1.82964710e+00,\n",
       "         1.82610750e+00,   1.82224971e+00,   1.81119386e+00,\n",
       "         1.79992425e+00,   1.78982899e+00,   1.78652229e+00,\n",
       "         1.78200996e+00,   1.77555091e+00,   1.76528478e+00,\n",
       "         1.76097515e+00,   1.75402738e+00,   1.74898454e+00,\n",
       "         1.73511563e+00,   1.73361074e+00,   1.71926074e+00,\n",
       "         1.71636119e+00,   1.71195967e+00,   1.70489451e+00,\n",
       "         1.70027174e+00,   1.69227972e+00,   1.68919440e+00,\n",
       "         1.68027959e+00,   1.67744685e+00,   1.67145110e+00,\n",
       "         1.66059667e+00,   1.65491435e+00,   1.64842404e+00,\n",
       "         1.63689120e+00,   1.63544673e+00,   1.62824976e+00,\n",
       "         1.62475491e+00,   1.62242907e+00,   1.61467146e+00,\n",
       "         1.60168005e+00,   1.59872364e+00,   1.58971175e+00,\n",
       "         1.58794428e+00,   1.58070163e+00,   1.57677596e+00,\n",
       "         1.57178312e+00,   1.56835641e+00,   1.56416809e+00,\n",
       "         1.55554151e+00,   1.54743391e+00,   1.53792753e+00,\n",
       "         1.52880675e+00,   1.52585571e+00,   1.51917759e+00,\n",
       "         1.51533841e+00,   1.50412684e+00,   1.49853389e+00,\n",
       "         1.49418751e+00,   1.48542542e+00,   1.48352342e+00,\n",
       "         1.47630778e+00,   1.46915852e+00,   1.46516350e+00,\n",
       "         1.46285133e+00,   1.46013993e+00,   1.45381168e+00,\n",
       "         1.45112703e+00,   1.43761156e+00,   1.42942876e+00,\n",
       "         1.42388307e+00,   1.41897796e+00,   1.41769444e+00,\n",
       "         1.41654727e+00,   1.41120078e+00,   1.40725574e+00,\n",
       "         1.40099392e+00,   1.39548123e+00,   1.38929037e+00,\n",
       "         1.38515226e+00,   1.38126191e+00,   1.37546971e+00,\n",
       "         1.37146462e+00,   1.36576952e+00,   1.36249646e+00,\n",
       "         1.35725351e+00,   1.35233498e+00,   1.34715339e+00,\n",
       "         1.34127528e+00,   1.34008506e+00,   1.33676130e+00,\n",
       "         1.32516613e+00,   1.32180246e+00,   1.31879305e+00,\n",
       "         1.30925321e+00,   1.30773200e+00,   1.30006458e+00,\n",
       "         1.29597825e+00,   1.29266217e+00,   1.28859035e+00,\n",
       "         1.28247011e+00,   1.27918506e+00,   1.26810473e+00,\n",
       "         1.26681913e+00,   1.26062982e+00,   1.25634277e+00,\n",
       "         1.25271980e+00,   1.24971397e+00,   1.24544274e+00,\n",
       "         1.24446764e+00,   1.23892962e+00,   1.23346610e+00,\n",
       "         1.22827547e+00,   1.22610782e+00,   1.21710481e+00,\n",
       "         1.21339414e+00,   1.21043850e+00,   1.20769560e+00,\n",
       "         1.19824972e+00,   1.19408298e+00,   1.19142554e+00,\n",
       "         1.18583174e+00,   1.18331941e+00,   1.18108938e+00,\n",
       "         1.17607111e+00,   1.17209570e+00,   1.17027448e+00,\n",
       "         1.16697232e+00,   1.15934225e+00,   1.15838572e+00,\n",
       "         1.15128342e+00,   1.14862691e+00,   1.14762286e+00,\n",
       "         1.14253577e+00,   1.13579645e+00,   1.13430894e+00,\n",
       "         1.12817884e+00,   1.12540703e+00,   1.12174824e+00,\n",
       "         1.11628489e+00,   1.11395323e+00,   1.11044087e+00,\n",
       "         1.10793687e+00,   1.10450369e+00,   1.10007198e+00,\n",
       "         1.09471643e+00,   1.09083201e+00,   1.08560180e+00,\n",
       "         1.08146964e+00,   1.07738158e+00,   1.06693631e+00,\n",
       "         1.06370785e+00,   1.05929959e+00,   1.05824925e+00,\n",
       "         1.05414584e+00,   1.04398411e+00,   1.04129550e+00,\n",
       "         1.03586831e+00,   1.03505853e+00,   1.02967425e+00,\n",
       "         1.02706301e+00,   1.02095281e+00,   1.01911195e+00,\n",
       "         1.01817155e+00,   1.01255179e+00,   1.00828944e+00,\n",
       "         1.00303557e+00,   9.99433741e-01,   9.93855963e-01,\n",
       "         9.92556681e-01,   9.90174592e-01,   9.85172737e-01,\n",
       "         9.79865770e-01,   9.75631075e-01,   9.70820921e-01,\n",
       "         9.68339544e-01,   9.62315010e-01,   9.60213374e-01,\n",
       "         9.54054745e-01,   9.52896157e-01,   9.50594465e-01,\n",
       "         9.43582265e-01,   9.42655784e-01,   9.34755692e-01,\n",
       "         9.29594625e-01,   9.27263911e-01,   9.23472215e-01,\n",
       "         9.18450152e-01,   9.12399157e-01,   9.08361423e-01,\n",
       "         9.07556783e-01,   9.03086279e-01,   8.96902075e-01,\n",
       "         8.94618576e-01,   8.80366298e-01])"
      ]
     },
     "execution_count": 139,
     "metadata": {},
     "output_type": "execute_result"
    }
   ],
   "source": [
    "pca.explained_variance_"
   ]
  },
  {
   "cell_type": "code",
   "execution_count": 142,
   "metadata": {
    "collapsed": true
   },
   "outputs": [],
   "source": [
    "genetic_pca = pd.DataFrame(x)"
   ]
  },
  {
   "cell_type": "code",
   "execution_count": 143,
   "metadata": {},
   "outputs": [
    {
     "data": {
      "text/plain": [
       "(2267, 500)"
      ]
     },
     "execution_count": 143,
     "metadata": {},
     "output_type": "execute_result"
    }
   ],
   "source": [
    "df1 = genetic_pca.iloc[:2267, :] #Training \n",
    "df2 = genetic_pca.iloc[2267:, :]  #Test"
   ]
  }
 ],
 "metadata": {
  "kernelspec": {
   "display_name": "Python 3",
   "language": "python",
   "name": "python3"
  },
  "language_info": {
   "codemirror_mode": {
    "name": "ipython",
    "version": 3
   },
   "file_extension": ".py",
   "mimetype": "text/x-python",
   "name": "python",
   "nbconvert_exporter": "python",
   "pygments_lexer": "ipython3",
   "version": "3.6.3"
  }
 },
 "nbformat": 4,
 "nbformat_minor": 2
}
