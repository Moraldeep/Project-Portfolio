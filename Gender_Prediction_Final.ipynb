{
 "cells": [
  {
   "cell_type": "code",
   "execution_count": 1,
   "metadata": {
    "collapsed": true
   },
   "outputs": [],
   "source": [
    "import numpy as np\n",
    "import scipy.stats\n",
    "import pandas as pd\n",
    "import matplotlib.pyplot as plt\n",
    "%matplotlib inline"
   ]
  },
  {
   "cell_type": "code",
   "execution_count": 2,
   "metadata": {
    "collapsed": true
   },
   "outputs": [],
   "source": [
    "from sklearn.metrics import roc_auc_score"
   ]
  },
  {
   "cell_type": "code",
   "execution_count": 3,
   "metadata": {
    "collapsed": true
   },
   "outputs": [],
   "source": [
    "from sklearn.ensemble import GradientBoostingClassifier"
   ]
  },
  {
   "cell_type": "code",
   "execution_count": 4,
   "metadata": {
    "collapsed": true
   },
   "outputs": [],
   "source": [
    "from sklearn.utils import resample\n",
    "from sklearn.model_selection import StratifiedKFold"
   ]
  },
  {
   "cell_type": "code",
   "execution_count": 5,
   "metadata": {},
   "outputs": [
    {
     "name": "stderr",
     "output_type": "stream",
     "text": [
      "/Users/poojachoudhary/anaconda3/lib/python3.6/site-packages/sklearn/cross_validation.py:41: DeprecationWarning: This module was deprecated in version 0.18 in favor of the model_selection module into which all the refactored classes and functions are moved. Also note that the interface of the new CV iterators are different from that of this module. This module will be removed in 0.20.\n",
      "  \"This module will be removed in 0.20.\", DeprecationWarning)\n",
      "/Users/poojachoudhary/anaconda3/lib/python3.6/site-packages/sklearn/grid_search.py:42: DeprecationWarning: This module was deprecated in version 0.18 in favor of the model_selection module into which all the refactored classes and functions are moved. This module will be removed in 0.20.\n",
      "  DeprecationWarning)\n"
     ]
    }
   ],
   "source": [
    "from xgboost import XGBClassifier\n",
    "from sklearn.grid_search import GridSearchCV"
   ]
  },
  {
   "cell_type": "code",
   "execution_count": 6,
   "metadata": {
    "collapsed": true
   },
   "outputs": [],
   "source": [
    "import lightgbm as lgb"
   ]
  },
  {
   "cell_type": "code",
   "execution_count": 31,
   "metadata": {
    "collapsed": true
   },
   "outputs": [],
   "source": [
    "from sklearn import preprocessing\n",
    "from sklearn.preprocessing import LabelEncoder"
   ]
  },
  {
   "cell_type": "code",
   "execution_count": 8,
   "metadata": {
    "collapsed": true
   },
   "outputs": [],
   "source": [
    "from sklearn.manifold import TSNE"
   ]
  },
  {
   "cell_type": "code",
   "execution_count": 9,
   "metadata": {
    "collapsed": true
   },
   "outputs": [],
   "source": [
    "from sklearn import cross_validation\n",
    "from sklearn.decomposition import PCA\n",
    "from sklearn.model_selection import cross_val_score\n",
    "from sklearn.linear_model import LogisticRegression\n",
    "from sklearn.neighbors import KNeighborsClassifier\n",
    "from sklearn.svm import SVC\n",
    "from sklearn.naive_bayes import GaussianNB\n",
    "from sklearn.ensemble import RandomForestClassifier"
   ]
  },
  {
   "cell_type": "code",
   "execution_count": 39,
   "metadata": {
    "collapsed": true
   },
   "outputs": [],
   "source": [
    "import warnings\n",
    "from functools import wraps"
   ]
  },
  {
   "cell_type": "code",
   "execution_count": 10,
   "metadata": {
    "collapsed": true
   },
   "outputs": [],
   "source": [
    "import xgboost as xgb"
   ]
  },
  {
   "cell_type": "code",
   "execution_count": 11,
   "metadata": {},
   "outputs": [
    {
     "name": "stderr",
     "output_type": "stream",
     "text": [
      "Using TensorFlow backend.\n",
      "/Users/poojachoudhary/anaconda3/lib/python3.6/importlib/_bootstrap.py:219: RuntimeWarning: compiletime version 3.5 of module 'tensorflow.python.framework.fast_tensor_util' does not match runtime version 3.6\n",
      "  return f(*args, **kwds)\n"
     ]
    }
   ],
   "source": [
    " from sklearn.preprocessing import Imputer\n",
    " from fancyimpute import KNN"
   ]
  },
  {
   "cell_type": "code",
   "execution_count": 12,
   "metadata": {},
   "outputs": [
    {
     "name": "stderr",
     "output_type": "stream",
     "text": [
      "/Users/poojachoudhary/anaconda3/lib/python3.6/site-packages/IPython/core/interactiveshell.py:2698: DtypeWarning: Columns (12,49,51,56,91,126,145,163,165,166,167,168,169,171,173,174,176,177,242,244,246,248,252,255,274,290,291,292,294,295,296,332,344,366,374,376,397,414,440,491,620,634,639,642,643,645,710,713,760,769,810,829,929,954,979,1001,1002,1003,1004,1005,1024,1037,1041,1043,1062,1086,1099,1100,1121,1129,1136,1152,1153,1166,1168,1182,1193,1204,1205,1207,1208,1216,1226,1228,1230,1232,1234) have mixed types. Specify dtype option on import or set low_memory=False.\n",
      "  interactivity=interactivity, compiler=compiler, result=result)\n"
     ]
    }
   ],
   "source": [
    "gender_train = pd.read_csv(\"Widstrain.csv\")"
   ]
  },
  {
   "cell_type": "code",
   "execution_count": 13,
   "metadata": {},
   "outputs": [
    {
     "data": {
      "text/plain": [
       "(18255, 1235)"
      ]
     },
     "execution_count": 13,
     "metadata": {},
     "output_type": "execute_result"
    }
   ],
   "source": [
    "gender_train.shape"
   ]
  },
  {
   "cell_type": "code",
   "execution_count": 14,
   "metadata": {},
   "outputs": [
    {
     "name": "stderr",
     "output_type": "stream",
     "text": [
      "/Users/poojachoudhary/anaconda3/lib/python3.6/site-packages/IPython/core/interactiveshell.py:2698: DtypeWarning: Columns (11,13,48,50,55,90,125,144,162,163,164,166,168,169,170,171,172,174,176,241,243,245,247,251,254,273,289,291,292,293,295,296,312,313,314,331,343,365,373,375,396,413,439,490,619,623,630,633,638,642,644,669,712,759,768,788,809,828,928,953,978,1000,1001,1002,1003,1004,1023,1036,1040,1042,1063,1085,1098,1099,1120,1128,1135,1151,1152,1165,1167,1181,1192,1204,1205,1206,1207,1215,1225,1227,1229,1231,1233) have mixed types. Specify dtype option on import or set low_memory=False.\n",
      "  interactivity=interactivity, compiler=compiler, result=result)\n"
     ]
    }
   ],
   "source": [
    "gender_test = pd.read_csv(\"Widstest.csv\")"
   ]
  },
  {
   "cell_type": "code",
   "execution_count": 15,
   "metadata": {},
   "outputs": [
    {
     "data": {
      "text/html": [
       "<div>\n",
       "<style>\n",
       "    .dataframe thead tr:only-child th {\n",
       "        text-align: right;\n",
       "    }\n",
       "\n",
       "    .dataframe thead th {\n",
       "        text-align: left;\n",
       "    }\n",
       "\n",
       "    .dataframe tbody tr th {\n",
       "        vertical-align: top;\n",
       "    }\n",
       "</style>\n",
       "<table border=\"1\" class=\"dataframe\">\n",
       "  <thead>\n",
       "    <tr style=\"text-align: right;\">\n",
       "      <th></th>\n",
       "      <th>train_id</th>\n",
       "      <th>AA3</th>\n",
       "      <th>AA4</th>\n",
       "      <th>AA5</th>\n",
       "      <th>AA6</th>\n",
       "      <th>AA7</th>\n",
       "      <th>AA14</th>\n",
       "      <th>AA15</th>\n",
       "      <th>DG1</th>\n",
       "      <th>is_female</th>\n",
       "      <th>...</th>\n",
       "      <th>LN1B</th>\n",
       "      <th>LN2_1</th>\n",
       "      <th>LN2_2</th>\n",
       "      <th>LN2_3</th>\n",
       "      <th>LN2_4</th>\n",
       "      <th>GN1</th>\n",
       "      <th>GN2</th>\n",
       "      <th>GN3</th>\n",
       "      <th>GN4</th>\n",
       "      <th>GN5</th>\n",
       "    </tr>\n",
       "  </thead>\n",
       "  <tbody>\n",
       "    <tr>\n",
       "      <th>count</th>\n",
       "      <td>18255.000000</td>\n",
       "      <td>18255.000000</td>\n",
       "      <td>18255.000000</td>\n",
       "      <td>5653.000000</td>\n",
       "      <td>12602.000000</td>\n",
       "      <td>18255.000000</td>\n",
       "      <td>18255.000000</td>\n",
       "      <td>18255.000000</td>\n",
       "      <td>18255.000000</td>\n",
       "      <td>18255.000000</td>\n",
       "      <td>...</td>\n",
       "      <td>18255.000000</td>\n",
       "      <td>18255.000000</td>\n",
       "      <td>18255.000000</td>\n",
       "      <td>18255.000000</td>\n",
       "      <td>18255.000000</td>\n",
       "      <td>14230.000000</td>\n",
       "      <td>18255.000000</td>\n",
       "      <td>18255.000000</td>\n",
       "      <td>18255.000000</td>\n",
       "      <td>18255.000000</td>\n",
       "    </tr>\n",
       "    <tr>\n",
       "      <th>mean</th>\n",
       "      <td>9127.000000</td>\n",
       "      <td>2.371460</td>\n",
       "      <td>28.558313</td>\n",
       "      <td>3.138864</td>\n",
       "      <td>6.793525</td>\n",
       "      <td>291360.681676</td>\n",
       "      <td>8030.510600</td>\n",
       "      <td>352.038346</td>\n",
       "      <td>1978.073185</td>\n",
       "      <td>0.537113</td>\n",
       "      <td>...</td>\n",
       "      <td>2.397316</td>\n",
       "      <td>2.145330</td>\n",
       "      <td>2.151575</td>\n",
       "      <td>2.830731</td>\n",
       "      <td>2.835881</td>\n",
       "      <td>5.590654</td>\n",
       "      <td>6.763079</td>\n",
       "      <td>7.421912</td>\n",
       "      <td>8.925883</td>\n",
       "      <td>8.817365</td>\n",
       "    </tr>\n",
       "    <tr>\n",
       "      <th>std</th>\n",
       "      <td>5269.908918</td>\n",
       "      <td>1.130523</td>\n",
       "      <td>9.822629</td>\n",
       "      <td>1.361434</td>\n",
       "      <td>0.769568</td>\n",
       "      <td>98126.483799</td>\n",
       "      <td>22061.608061</td>\n",
       "      <td>179.744071</td>\n",
       "      <td>14.740675</td>\n",
       "      <td>0.498634</td>\n",
       "      <td>...</td>\n",
       "      <td>1.231487</td>\n",
       "      <td>1.407641</td>\n",
       "      <td>1.407021</td>\n",
       "      <td>1.594319</td>\n",
       "      <td>1.592863</td>\n",
       "      <td>18.210791</td>\n",
       "      <td>20.537281</td>\n",
       "      <td>21.752528</td>\n",
       "      <td>24.523345</td>\n",
       "      <td>24.413247</td>\n",
       "    </tr>\n",
       "    <tr>\n",
       "      <th>min</th>\n",
       "      <td>0.000000</td>\n",
       "      <td>1.000000</td>\n",
       "      <td>11.000000</td>\n",
       "      <td>1.000000</td>\n",
       "      <td>6.000000</td>\n",
       "      <td>111011.000000</td>\n",
       "      <td>96.000000</td>\n",
       "      <td>24.000000</td>\n",
       "      <td>1917.000000</td>\n",
       "      <td>0.000000</td>\n",
       "      <td>...</td>\n",
       "      <td>1.000000</td>\n",
       "      <td>1.000000</td>\n",
       "      <td>1.000000</td>\n",
       "      <td>1.000000</td>\n",
       "      <td>1.000000</td>\n",
       "      <td>1.000000</td>\n",
       "      <td>1.000000</td>\n",
       "      <td>1.000000</td>\n",
       "      <td>1.000000</td>\n",
       "      <td>1.000000</td>\n",
       "    </tr>\n",
       "    <tr>\n",
       "      <th>25%</th>\n",
       "      <td>4563.500000</td>\n",
       "      <td>1.000000</td>\n",
       "      <td>21.000000</td>\n",
       "      <td>2.000000</td>\n",
       "      <td>6.000000</td>\n",
       "      <td>216071.000000</td>\n",
       "      <td>949.000000</td>\n",
       "      <td>178.000000</td>\n",
       "      <td>1969.000000</td>\n",
       "      <td>0.000000</td>\n",
       "      <td>...</td>\n",
       "      <td>1.000000</td>\n",
       "      <td>1.000000</td>\n",
       "      <td>1.000000</td>\n",
       "      <td>1.000000</td>\n",
       "      <td>1.000000</td>\n",
       "      <td>1.000000</td>\n",
       "      <td>1.000000</td>\n",
       "      <td>1.000000</td>\n",
       "      <td>1.000000</td>\n",
       "      <td>1.000000</td>\n",
       "    </tr>\n",
       "    <tr>\n",
       "      <th>50%</th>\n",
       "      <td>9127.000000</td>\n",
       "      <td>2.000000</td>\n",
       "      <td>31.000000</td>\n",
       "      <td>3.000000</td>\n",
       "      <td>7.000000</td>\n",
       "      <td>313011.000000</td>\n",
       "      <td>2902.000000</td>\n",
       "      <td>354.000000</td>\n",
       "      <td>1981.000000</td>\n",
       "      <td>1.000000</td>\n",
       "      <td>...</td>\n",
       "      <td>2.000000</td>\n",
       "      <td>1.000000</td>\n",
       "      <td>1.000000</td>\n",
       "      <td>3.000000</td>\n",
       "      <td>3.000000</td>\n",
       "      <td>2.000000</td>\n",
       "      <td>2.000000</td>\n",
       "      <td>2.000000</td>\n",
       "      <td>2.000000</td>\n",
       "      <td>2.000000</td>\n",
       "    </tr>\n",
       "    <tr>\n",
       "      <th>75%</th>\n",
       "      <td>13690.500000</td>\n",
       "      <td>3.000000</td>\n",
       "      <td>34.000000</td>\n",
       "      <td>4.000000</td>\n",
       "      <td>7.000000</td>\n",
       "      <td>348181.000000</td>\n",
       "      <td>4609.000000</td>\n",
       "      <td>523.000000</td>\n",
       "      <td>1990.000000</td>\n",
       "      <td>1.000000</td>\n",
       "      <td>...</td>\n",
       "      <td>4.000000</td>\n",
       "      <td>3.000000</td>\n",
       "      <td>3.000000</td>\n",
       "      <td>4.000000</td>\n",
       "      <td>4.000000</td>\n",
       "      <td>3.000000</td>\n",
       "      <td>3.000000</td>\n",
       "      <td>3.000000</td>\n",
       "      <td>3.000000</td>\n",
       "      <td>3.000000</td>\n",
       "    </tr>\n",
       "    <tr>\n",
       "      <th>max</th>\n",
       "      <td>18254.000000</td>\n",
       "      <td>4.000000</td>\n",
       "      <td>44.000000</td>\n",
       "      <td>5.000000</td>\n",
       "      <td>8.000000</td>\n",
       "      <td>448051.000000</td>\n",
       "      <td>99999.000000</td>\n",
       "      <td>633.000000</td>\n",
       "      <td>2001.000000</td>\n",
       "      <td>1.000000</td>\n",
       "      <td>...</td>\n",
       "      <td>4.000000</td>\n",
       "      <td>5.000000</td>\n",
       "      <td>5.000000</td>\n",
       "      <td>5.000000</td>\n",
       "      <td>5.000000</td>\n",
       "      <td>99.000000</td>\n",
       "      <td>99.000000</td>\n",
       "      <td>99.000000</td>\n",
       "      <td>99.000000</td>\n",
       "      <td>99.000000</td>\n",
       "    </tr>\n",
       "  </tbody>\n",
       "</table>\n",
       "<p>8 rows × 1139 columns</p>\n",
       "</div>"
      ],
      "text/plain": [
       "           train_id           AA3           AA4          AA5           AA6  \\\n",
       "count  18255.000000  18255.000000  18255.000000  5653.000000  12602.000000   \n",
       "mean    9127.000000      2.371460     28.558313     3.138864      6.793525   \n",
       "std     5269.908918      1.130523      9.822629     1.361434      0.769568   \n",
       "min        0.000000      1.000000     11.000000     1.000000      6.000000   \n",
       "25%     4563.500000      1.000000     21.000000     2.000000      6.000000   \n",
       "50%     9127.000000      2.000000     31.000000     3.000000      7.000000   \n",
       "75%    13690.500000      3.000000     34.000000     4.000000      7.000000   \n",
       "max    18254.000000      4.000000     44.000000     5.000000      8.000000   \n",
       "\n",
       "                 AA7          AA14          AA15           DG1     is_female  \\\n",
       "count   18255.000000  18255.000000  18255.000000  18255.000000  18255.000000   \n",
       "mean   291360.681676   8030.510600    352.038346   1978.073185      0.537113   \n",
       "std     98126.483799  22061.608061    179.744071     14.740675      0.498634   \n",
       "min    111011.000000     96.000000     24.000000   1917.000000      0.000000   \n",
       "25%    216071.000000    949.000000    178.000000   1969.000000      0.000000   \n",
       "50%    313011.000000   2902.000000    354.000000   1981.000000      1.000000   \n",
       "75%    348181.000000   4609.000000    523.000000   1990.000000      1.000000   \n",
       "max    448051.000000  99999.000000    633.000000   2001.000000      1.000000   \n",
       "\n",
       "           ...               LN1B         LN2_1         LN2_2         LN2_3  \\\n",
       "count      ...       18255.000000  18255.000000  18255.000000  18255.000000   \n",
       "mean       ...           2.397316      2.145330      2.151575      2.830731   \n",
       "std        ...           1.231487      1.407641      1.407021      1.594319   \n",
       "min        ...           1.000000      1.000000      1.000000      1.000000   \n",
       "25%        ...           1.000000      1.000000      1.000000      1.000000   \n",
       "50%        ...           2.000000      1.000000      1.000000      3.000000   \n",
       "75%        ...           4.000000      3.000000      3.000000      4.000000   \n",
       "max        ...           4.000000      5.000000      5.000000      5.000000   \n",
       "\n",
       "              LN2_4           GN1           GN2           GN3           GN4  \\\n",
       "count  18255.000000  14230.000000  18255.000000  18255.000000  18255.000000   \n",
       "mean       2.835881      5.590654      6.763079      7.421912      8.925883   \n",
       "std        1.592863     18.210791     20.537281     21.752528     24.523345   \n",
       "min        1.000000      1.000000      1.000000      1.000000      1.000000   \n",
       "25%        1.000000      1.000000      1.000000      1.000000      1.000000   \n",
       "50%        3.000000      2.000000      2.000000      2.000000      2.000000   \n",
       "75%        4.000000      3.000000      3.000000      3.000000      3.000000   \n",
       "max        5.000000     99.000000     99.000000     99.000000     99.000000   \n",
       "\n",
       "                GN5  \n",
       "count  18255.000000  \n",
       "mean       8.817365  \n",
       "std       24.413247  \n",
       "min        1.000000  \n",
       "25%        1.000000  \n",
       "50%        2.000000  \n",
       "75%        3.000000  \n",
       "max       99.000000  \n",
       "\n",
       "[8 rows x 1139 columns]"
      ]
     },
     "execution_count": 15,
     "metadata": {},
     "output_type": "execute_result"
    }
   ],
   "source": [
    "gender_train.describe()"
   ]
  },
  {
   "cell_type": "code",
   "execution_count": 16,
   "metadata": {},
   "outputs": [
    {
     "data": {
      "text/plain": [
       "Text(0.5,0.98,'Level of Education')"
      ]
     },
     "execution_count": 16,
     "metadata": {},
     "output_type": "execute_result"
    },
    {
     "data": {
      "image/png": "[encoded data removed]",
      "text/plain": [
       "<matplotlib.figure.Figure at 0x11433cdd8>"
      ]
     },
     "metadata": {},
     "output_type": "display_data"
    },
    {
     "data": {
      "text/plain": [
       "<matplotlib.figure.Figure at 0x1142f0ef0>"
      ]
     },
     "metadata": {},
     "output_type": "display_data"
    }
   ],
   "source": [
    "gender_train['DG4'].value_counts().plot(kind = 'bar',color='red',position=1,width =0.4,label = \"Total\")\n",
    "gender_train[gender_train[\"is_female\"]==1]['DG4'].value_counts().plot(kind = 'bar',position=2,width=0.4,label = \"Female\")\n",
    "plt.legend()\n",
    "fig = plt.figure()\n",
    "fig.suptitle('Level of Education')"
   ]
  },
  {
   "cell_type": "code",
   "execution_count": 17,
   "metadata": {},
   "outputs": [
    {
     "data": {
      "text/plain": [
       "Text(0.5,0.98,'Work done in Last 12 months')"
      ]
     },
     "execution_count": 17,
     "metadata": {},
     "output_type": "execute_result"
    },
    {
     "data": {
      "image/png": "[encoded data removed]",
      "text/plain": [
       "<matplotlib.figure.Figure at 0x1a230e1390>"
      ]
     },
     "metadata": {},
     "output_type": "display_data"
    },
    {
     "data": {
      "text/plain": [
       "<matplotlib.figure.Figure at 0x114316320>"
      ]
     },
     "metadata": {},
     "output_type": "display_data"
    }
   ],
   "source": [
    "gender_train['DL1'].value_counts().plot(kind = 'bar',color='red',position=1,width =0.4,label = \"Total\")\n",
    "gender_train[gender_train[\"is_female\"]==1]['DL1'].value_counts().plot(kind = 'bar',position=2,width=0.4,label = \"Female\")\n",
    "plt.legend()\n",
    "fig = plt.figure()\n",
    "fig.suptitle('Work done in Last 12 months')"
   ]
  },
  {
   "cell_type": "code",
   "execution_count": 18,
   "metadata": {},
   "outputs": [
    {
     "data": {
      "text/plain": [
       "Text(0.5,0.98,'Primary Source of Income')"
      ]
     },
     "execution_count": 18,
     "metadata": {},
     "output_type": "execute_result"
    },
    {
     "data": {
      "image/png": "[encoded data removed]",
      "text/plain": [
       "<matplotlib.figure.Figure at 0x1a246fb860>"
      ]
     },
     "metadata": {},
     "output_type": "display_data"
    },
    {
     "data": {
      "text/plain": [
       "<matplotlib.figure.Figure at 0x11237da20>"
      ]
     },
     "metadata": {},
     "output_type": "display_data"
    }
   ],
   "source": [
    "gender_train['DL0'].value_counts().plot(kind = 'bar',color='red',position=1,width =0.4,label = \"Total\")\n",
    "gender_train[gender_train[\"is_female\"]==1]['DL0'].value_counts().plot(kind = 'bar',position=2,width=0.4,label = \"Female\")\n",
    "plt.legend()\n",
    "fig = plt.figure()\n",
    "fig.suptitle('Primary Source of Income')"
   ]
  },
  {
   "cell_type": "markdown",
   "metadata": {},
   "source": [
    "# Data - Processing : Missing Values"
   ]
  },
  {
   "cell_type": "code",
   "execution_count": 24,
   "metadata": {},
   "outputs": [
    {
     "data": {
      "text/plain": [
       "Index(['DG3A_OTHERS', 'DG4_OTHERS', 'DG13_1', 'DG13_2', 'DG13_3', 'DG13_4',\n",
       "       'DG13_5', 'DG13_96', 'DG13_7', 'DG13_OTHERS',\n",
       "       ...\n",
       "       'FB28_2_OTHERS', 'FB28_3_OTHERS', 'FB28_4_OTHERS', 'FB28_96_OTHERS',\n",
       "       'FB29_OTHERS', 'GN1_OTHERS', 'GN2_OTHERS', 'GN3_OTHERS', 'GN4_OTHERS',\n",
       "       'GN5_OTHERS'],\n",
       "      dtype='object', length=791)"
      ]
     },
     "execution_count": 24,
     "metadata": {},
     "output_type": "execute_result"
    }
   ],
   "source": [
    "pct_null = gender_train.isnull().sum() / len(gender_train)\n",
    "missing_features = pct_null[pct_null > 0.8].index\n",
    "missing_features"
   ]
  },
  {
   "cell_type": "markdown",
   "metadata": {},
   "source": [
    "# 791 features out of 1235 have more than 80% missing values"
   ]
  },
  {
   "cell_type": "markdown",
   "metadata": {},
   "source": [
    "# Label Encoding"
   ]
  },
  {
   "cell_type": "code",
   "execution_count": 28,
   "metadata": {},
   "outputs": [
    {
     "name": "stdout",
     "output_type": "stream",
     "text": [
      "(45540, 1235)\n"
     ]
    }
   ],
   "source": [
    "data = gender_train.fillna(-1)\n",
    "y = np.array(data['is_female'])\n",
    "data = data.drop(['is_female'], axis=1)\n",
    "data2 = gender_test.fillna(-1)\n",
    "data = data.append(data2)\n",
    "print(data.shape)"
   ]
  },
  {
   "cell_type": "code",
   "execution_count": 33,
   "metadata": {
    "collapsed": true
   },
   "outputs": [],
   "source": [
    "def ignore_warnings(f):\n",
    "    @wraps(f)\n",
    "    def inner(*args, **kwargs):\n",
    "        with warnings.catch_warnings(record=True) as w:\n",
    "            warnings.simplefilter(\"ignore\")\n",
    "            response = f(*args, **kwargs)\n",
    "        return response\n",
    "    return inner"
   ]
  },
  {
   "cell_type": "code",
   "execution_count": 40,
   "metadata": {},
   "outputs": [],
   "source": [
    "@ignore_warnings\n",
    "def start():\n",
    "    label_encode = LabelEncoder()\n",
    "    mat = np.array([])\n",
    "\n",
    "    for i in range(1, data.shape[1]):\n",
    "        tmp = np.array(data.ix[:,i])\n",
    "        tmp_label_encode = label_encode.fit_transform(tmp)\n",
    "        if i == 1:\n",
    "            mat = tmp_label_encode\n",
    "        else:\n",
    "            mat = np.vstack((mat, tmp_label_encode))\n",
    "            mat_new = mat.T\n",
    "            print(mat_new.shape)\n",
    "            \n",
    "            np.save('train.npy', mat_new[:18255,:])\n",
    "            np.save('test.npy', mat_new[18255:,:])\n",
    "            np.save('y.npy', y)"
   ]
  },
  {
   "cell_type": "markdown",
   "metadata": {},
   "source": [
    "# Imputed Data Set"
   ]
  },
  {
   "cell_type": "code",
   "execution_count": 46,
   "metadata": {},
   "outputs": [
    {
     "data": {
      "text/plain": [
       "(18255, 1234)"
      ]
     },
     "execution_count": 46,
     "metadata": {},
     "output_type": "execute_result"
    }
   ],
   "source": [
    "x_train_n = np.load('train.npy')\n",
    "x_test_n = np.load('test.npy')\n",
    "y_train_n = np.load('y.npy')"
   ]
  },
  {
   "cell_type": "code",
   "execution_count": 50,
   "metadata": {
    "collapsed": true
   },
   "outputs": [],
   "source": [
    "train_n, validation_n,y_n,val_y_n = cross_validation.train_test_split(x_train_n,y_train_n,test_size = 0.2\n",
    "                                                                      ,random_state = 0)"
   ]
  },
  {
   "cell_type": "markdown",
   "metadata": {},
   "source": [
    "# Random Forest"
   ]
  },
  {
   "cell_type": "code",
   "execution_count": 48,
   "metadata": {
    "collapsed": true
   },
   "outputs": [],
   "source": [
    "classifier_RF = RandomForestClassifier(n_estimators = 100, criterion = 'entropy', random_state = 0)\n"
   ]
  },
  {
   "cell_type": "code",
   "execution_count": 52,
   "metadata": {},
   "outputs": [
    {
     "data": {
      "text/plain": [
       "RandomForestClassifier(bootstrap=True, class_weight=None, criterion='entropy',\n",
       "            max_depth=None, max_features='auto', max_leaf_nodes=None,\n",
       "            min_impurity_decrease=0.0, min_impurity_split=None,\n",
       "            min_samples_leaf=1, min_samples_split=2,\n",
       "            min_weight_fraction_leaf=0.0, n_estimators=100, n_jobs=1,\n",
       "            oob_score=False, random_state=0, verbose=0, warm_start=False)"
      ]
     },
     "execution_count": 52,
     "metadata": {},
     "output_type": "execute_result"
    }
   ],
   "source": [
    "classifier_RF.fit(train_n,y_n)"
   ]
  },
  {
   "cell_type": "code",
   "execution_count": 59,
   "metadata": {},
   "outputs": [],
   "source": [
    "y_predict_RF = classifier_RF.predict_proba(validation_n)\n",
    "y_predict_RF = pd.DataFrame(y_predict_RF).iloc[:,1]"
   ]
  },
  {
   "cell_type": "code",
   "execution_count": 60,
   "metadata": {},
   "outputs": [
    {
     "data": {
      "text/plain": [
       "0.94393734308350041"
      ]
     },
     "execution_count": 60,
     "metadata": {},
     "output_type": "execute_result"
    }
   ],
   "source": [
    "roc_auc_score(val_y_n,y_predict_RF)"
   ]
  },
  {
   "cell_type": "markdown",
   "metadata": {},
   "source": [
    "# XG Boost"
   ]
  },
  {
   "cell_type": "code",
   "execution_count": 28,
   "metadata": {},
   "outputs": [
    {
     "data": {
      "text/plain": [
       "<xgboost.core.DMatrix at 0x118613cc0>"
      ]
     },
     "execution_count": 28,
     "metadata": {},
     "output_type": "execute_result"
    }
   ],
   "source": [
    "dtrain = xgb.DMatrix(train_n,label = y_n)\n",
    "dvalidation = xgb.DMatrix(validation_n,label = val_y_n)\n",
    "xg = xgb.train(param_xg,dtrain,num_round) \n",
    "ypred=model.predict(dvalidation) \n",
    "ypred_n = pd.DataFrame(ypred).iloc[:,1]\n",
    "roc_auc_score(val_y_n,ypred_n)"
   ]
  },
  {
   "cell_type": "code",
   "execution_count": 220,
   "metadata": {},
   "outputs": [
    {
     "data": {
      "text/plain": [
       "XGBClassifier(base_score=0.5, booster='gbtree', colsample_bylevel=1,\n",
       "       colsample_bytree=0.8, gamma=0.1, learning_rate=0.1,\n",
       "       max_delta_step=0, max_depth=150, min_child_weight=1, missing=None,\n",
       "       n_estimators=1000, n_jobs=1, nthread=5, objective='binary:logistic',\n",
       "       random_state=0, reg_alpha=0, reg_lambda=1, scale_pos_weight=1,\n",
       "       seed=27, silent=True, subsample=0.8)"
      ]
     },
     "execution_count": 220,
     "metadata": {},
     "output_type": "execute_result"
    }
   ],
   "source": [
    "model = XGBClassifier(learning_rate =0.1, n_estimators=1000,max_depth=150, min_child_weight=1,gamma=0.1, subsample=0.6,\n",
    " colsample_bytree=0.8,objective= 'binary:logistic',nthread=5,scale_pos_weight=1,seed=27)\n",
    "model.fit(train_n, y_n)"
   ]
  },
  {
   "cell_type": "code",
   "execution_count": 221,
   "metadata": {},
   "outputs": [
    {
     "data": {
      "text/plain": [
       "0.96995745852824222"
      ]
     },
     "execution_count": 221,
     "metadata": {},
     "output_type": "execute_result"
    }
   ],
   "source": [
    "ypred=model.predict_proba(validation_n) \n",
    "ypred_n = pd.DataFrame(ypred).iloc[:,1]\n",
    "roc_auc_score(val_y_n,ypred_n)"
   ]
  },
  {
   "cell_type": "markdown",
   "metadata": {},
   "source": [
    "# XGBOOST - Normalised Data Set"
   ]
  },
  {
   "cell_type": "code",
   "execution_count": 84,
   "metadata": {},
   "outputs": [
    {
     "name": "stderr",
     "output_type": "stream",
     "text": [
      "/Users/poojachoudhary/anaconda3/lib/python3.6/site-packages/sklearn/utils/validation.py:475: DataConversionWarning: Data with input dtype int64 was converted to float64 by StandardScaler.\n",
      "  warnings.warn(msg, DataConversionWarning)\n"
     ]
    }
   ],
   "source": [
    "scaler = preprocessing.StandardScaler().fit(train_n)\n",
    "train_n_scale = scaler.transform(train_n)\n",
    "validation_n_scale = scaler.transform(validation_n)\n"
   ]
  },
  {
   "cell_type": "code",
   "execution_count": 66,
   "metadata": {},
   "outputs": [
    {
     "data": {
      "text/plain": [
       "0.96990819141794049"
      ]
     },
     "execution_count": 66,
     "metadata": {},
     "output_type": "execute_result"
    }
   ],
   "source": [
    "model.fit(train_n_scale,y_n)\n",
    "ypred=model.predict_proba(validation_n_scale) \n",
    "ypred_n = pd.DataFrame(ypred).iloc[:,1]\n",
    "roc_auc_score(val_y_n,ypred_n)"
   ]
  },
  {
   "cell_type": "markdown",
   "metadata": {},
   "source": [
    "# Light GBM"
   ]
  },
  {
   "cell_type": "code",
   "execution_count": 269,
   "metadata": {
    "collapsed": true
   },
   "outputs": [],
   "source": [
    "param = {'num_leaves':50, 'objective':'binary','max_depth':-1,'learning_rate':.075,'max_bin':100,'subsample': 0.65,'min_data_in_leaf':40}\n",
    "param['metric'] = ['auc']\n",
    "num_round=400"
   ]
  },
  {
   "cell_type": "code",
   "execution_count": 270,
   "metadata": {
    "collapsed": true
   },
   "outputs": [],
   "source": [
    "train_data_n =lgb.Dataset(train_n,label=y_n)\n",
    "lgbm_n=lgb.train(param,train_data_n,num_round)"
   ]
  },
  {
   "cell_type": "code",
   "execution_count": 271,
   "metadata": {
    "collapsed": true
   },
   "outputs": [],
   "source": [
    "ypred_train_n =lgbm_n.predict(validation_n)"
   ]
  },
  {
   "cell_type": "code",
   "execution_count": 272,
   "metadata": {},
   "outputs": [
    {
     "data": {
      "text/plain": [
       "0.97059220573222071"
      ]
     },
     "execution_count": 272,
     "metadata": {},
     "output_type": "execute_result"
    }
   ],
   "source": [
    "roc_auc_score(val_y_n,ypred_train_n)"
   ]
  },
  {
   "cell_type": "code",
   "execution_count": 252,
   "metadata": {},
   "outputs": [
    {
     "data": {
      "text/plain": [
       "(27285, 1)"
      ]
     },
     "execution_count": 252,
     "metadata": {},
     "output_type": "execute_result"
    }
   ],
   "source": [
    "ypred_test_n =lgbm_n.predict(x_test_n)\n",
    "y_pred_test = pd.DataFrame(ypred_test_n)\n",
    "y_pred_test.shape"
   ]
  },
  {
   "cell_type": "code",
   "execution_count": 253,
   "metadata": {
    "collapsed": true
   },
   "outputs": [],
   "source": [
    "y_pred_test.to_csv(\"Predict_LGM_n.csv\")"
   ]
  },
  {
   "cell_type": "markdown",
   "metadata": {},
   "source": [
    "# LGBM - Standardised Data Set"
   ]
  },
  {
   "cell_type": "code",
   "execution_count": 85,
   "metadata": {},
   "outputs": [
    {
     "name": "stderr",
     "output_type": "stream",
     "text": [
      "/Users/poojachoudhary/anaconda3/lib/python3.6/site-packages/sklearn/utils/validation.py:475: DataConversionWarning: Data with input dtype int64 was converted to float64 by StandardScaler.\n",
      "  warnings.warn(msg, DataConversionWarning)\n"
     ]
    }
   ],
   "source": [
    "scaler = preprocessing.StandardScaler().fit(train_n)\n",
    "train_n_scale = scaler.transform(train_n)\n",
    "validation_n_scale = scaler.transform(validation_n)"
   ]
  },
  {
   "cell_type": "code",
   "execution_count": 86,
   "metadata": {
    "collapsed": true
   },
   "outputs": [],
   "source": [
    "train_data_n =lgb.Dataset(train_n_scale,label=y_n)\n",
    "lgbm_n=lgb.train(param,train_data_n,num_round)"
   ]
  },
  {
   "cell_type": "code",
   "execution_count": 87,
   "metadata": {},
   "outputs": [
    {
     "data": {
      "text/plain": [
       "0.96948452440213539"
      ]
     },
     "execution_count": 87,
     "metadata": {},
     "output_type": "execute_result"
    }
   ],
   "source": [
    "ypred_train_n =lgbm_n.predict(validation_n_scale)\n",
    "roc_auc_score(val_y_n,ypred_train_n)"
   ]
  }
 ],
 "metadata": {
  "kernelspec": {
   "display_name": "Python 3",
   "language": "python",
   "name": "python3"
  },
  "language_info": {
   "codemirror_mode": {
    "name": "ipython",
    "version": 3
   },
   "file_extension": ".py",
   "mimetype": "text/x-python",
   "name": "python",
   "nbconvert_exporter": "python",
   "pygments_lexer": "ipython3",
   "version": "3.6.3"
  }
 },
 "nbformat": 4,
 "nbformat_minor": 2
}
